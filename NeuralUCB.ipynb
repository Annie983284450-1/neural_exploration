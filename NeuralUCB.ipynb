{
 "cells": [
  {
   "cell_type": "code",
   "execution_count": 1,
   "metadata": {},
   "outputs": [
    {
     "name": "stderr",
     "output_type": "stream",
     "text": [
      "Using TensorFlow backend.\n",
      "/home/sauxpa/anaconda3/lib/python3.7/site-packages/tensorflow/python/framework/dtypes.py:526: FutureWarning: Passing (type, 1) or '1type' as a synonym of type is deprecated; in a future version of numpy, it will be understood as (type, (1,)) / '(1,)type'.\n",
      "  _np_qint8 = np.dtype([(\"qint8\", np.int8, 1)])\n",
      "/home/sauxpa/anaconda3/lib/python3.7/site-packages/tensorflow/python/framework/dtypes.py:527: FutureWarning: Passing (type, 1) or '1type' as a synonym of type is deprecated; in a future version of numpy, it will be understood as (type, (1,)) / '(1,)type'.\n",
      "  _np_quint8 = np.dtype([(\"quint8\", np.uint8, 1)])\n",
      "/home/sauxpa/anaconda3/lib/python3.7/site-packages/tensorflow/python/framework/dtypes.py:528: FutureWarning: Passing (type, 1) or '1type' as a synonym of type is deprecated; in a future version of numpy, it will be understood as (type, (1,)) / '(1,)type'.\n",
      "  _np_qint16 = np.dtype([(\"qint16\", np.int16, 1)])\n",
      "/home/sauxpa/anaconda3/lib/python3.7/site-packages/tensorflow/python/framework/dtypes.py:529: FutureWarning: Passing (type, 1) or '1type' as a synonym of type is deprecated; in a future version of numpy, it will be understood as (type, (1,)) / '(1,)type'.\n",
      "  _np_quint16 = np.dtype([(\"quint16\", np.uint16, 1)])\n",
      "/home/sauxpa/anaconda3/lib/python3.7/site-packages/tensorflow/python/framework/dtypes.py:530: FutureWarning: Passing (type, 1) or '1type' as a synonym of type is deprecated; in a future version of numpy, it will be understood as (type, (1,)) / '(1,)type'.\n",
      "  _np_qint32 = np.dtype([(\"qint32\", np.int32, 1)])\n",
      "/home/sauxpa/anaconda3/lib/python3.7/site-packages/tensorflow/python/framework/dtypes.py:535: FutureWarning: Passing (type, 1) or '1type' as a synonym of type is deprecated; in a future version of numpy, it will be understood as (type, (1,)) / '(1,)type'.\n",
      "  np_resource = np.dtype([(\"resource\", np.ubyte, 1)])\n"
     ]
    }
   ],
   "source": [
    "import numpy as np\n",
    "import matplotlib.pyplot as plt\n",
    "import seaborn as sns\n",
    "\n",
    "from neural_exploration import *\n",
    "sns.set()\n",
    "\n",
    "import os\n",
    "os.environ[\"CUDA_VISIBLE_DEVICES\"] = \"-1\""
   ]
  },
  {
   "cell_type": "markdown",
   "metadata": {},
   "source": [
    "### Bandit settings"
   ]
  },
  {
   "cell_type": "code",
   "execution_count": 2,
   "metadata": {},
   "outputs": [],
   "source": [
    "T = int(2e2)\n",
    "n_arms = 4\n",
    "n_features = 20\n",
    "noise_std = 0.1\n",
    "\n",
    "confidence_scaling_factor = noise_std\n",
    "\n",
    "n_sim = 2"
   ]
  },
  {
   "cell_type": "markdown",
   "metadata": {},
   "source": [
    "### NeuralUCB on linear rewards"
   ]
  },
  {
   "cell_type": "code",
   "execution_count": 3,
   "metadata": {},
   "outputs": [],
   "source": [
    "### mean reward function\n",
    "a = np.random.randn(n_features)\n",
    "a /= np.linalg.norm(a, ord=2)\n",
    "h = lambda x: 100*np.dot(a, x)"
   ]
  },
  {
   "cell_type": "code",
   "execution_count": 4,
   "metadata": {},
   "outputs": [
    {
     "name": "stderr",
     "output_type": "stream",
     "text": [
      "100%|██████████| 200/200 [00:16<00:00, 11.91it/s, total regret=350, % optimal arm=87.00%]\n",
      "100%|██████████| 200/200 [00:17<00:00, 11.75it/s, total regret=379, % optimal arm=89.00%]\n"
     ]
    }
   ],
   "source": [
    "bandit = ContextualBandit(T, n_arms, n_features, h, noise_std=noise_std)\n",
    "\n",
    "regrets = np.empty((n_sim, T))\n",
    "\n",
    "for i in range(n_sim):\n",
    "    bandit.reset_rewards()\n",
    "    model = NeuralUCB(bandit,\n",
    "                      hidden_size=20,\n",
    "                      reg_factor=1.0,\n",
    "                      delta=0.1,\n",
    "                      confidence_scaling_factor=confidence_scaling_factor,\n",
    "                      training_window=100,\n",
    "                      learning_rate=0.01,\n",
    "                      batch_size=100,\n",
    "                      epochs=5,\n",
    "                      nn_verbose=0,\n",
    "                     )\n",
    "        \n",
    "    model.run()\n",
    "    regrets[i] = np.cumsum(model.regrets)\n",
    "    \n",
    "    # when training multiple models sequentially,\n",
    "    # flush them when you don't need them\n",
    "    # otherwise they will stick around and pollute your RAM\n",
    "    K.clear_session()"
   ]
  },
  {
   "cell_type": "markdown",
   "metadata": {},
   "source": [
    "### Sublinear regret growth : the bandit problem is solved efficiently"
   ]
  },
  {
   "cell_type": "code",
   "execution_count": 5,
   "metadata": {},
   "outputs": [
    {
     "data": {
      "image/png": "[encoded data removed]",
      "text/plain": [
       "<Figure size 792x288 with 1 Axes>"
      ]
     },
     "metadata": {
      "needs_background": "light"
     },
     "output_type": "display_data"
    }
   ],
   "source": [
    "fig, ax = plt.subplots(figsize=(11, 4), nrows=1, ncols=1)\n",
    "\n",
    "t = np.arange(T)\n",
    "\n",
    "mean_regrets = np.mean(regrets, axis=0)\n",
    "std_regrets = np.std(regrets, axis=0) / np.sqrt(regrets.shape[0])\n",
    "ax.plot(t, mean_regrets)\n",
    "ax.fill_between(t, mean_regrets - 2*std_regrets, mean_regrets + 2*std_regrets, alpha=0.15)\n",
    "    \n",
    "ax.set_title('Cumulative regret')\n",
    "\n",
    "plt.tight_layout()\n",
    "plt.show()"
   ]
  },
  {
   "cell_type": "markdown",
   "metadata": {},
   "source": [
    "### NeuralUCB on nonlinear rewards"
   ]
  },
  {
   "cell_type": "code",
   "execution_count": 6,
   "metadata": {},
   "outputs": [],
   "source": [
    "### mean reward function\n",
    "a = np.random.randn(n_features)\n",
    "a /= np.linalg.norm(a, ord=2)\n",
    "h = lambda x: 100*np.dot(a, x)**2"
   ]
  },
  {
   "cell_type": "code",
   "execution_count": 9,
   "metadata": {},
   "outputs": [
    {
     "name": "stderr",
     "output_type": "stream",
     "text": [
      "100%|██████████| 200/200 [00:18<00:00, 10.66it/s, total regret=537, % optimal arm=64.50%]\n",
      "100%|██████████| 200/200 [00:19<00:00, 10.47it/s, total regret=914, % optimal arm=43.00%]\n"
     ]
    }
   ],
   "source": [
    "bandit = ContextualBandit(T, n_arms, n_features, h, noise_std=noise_std)\n",
    "\n",
    "regrets = np.empty((n_sim, T))\n",
    "\n",
    "for i in range(n_sim):\n",
    "    bandit.reset_rewards()\n",
    "    model = NeuralUCB(bandit,\n",
    "                      hidden_size=20,\n",
    "                      reg_factor=1.0,\n",
    "                      delta=0.1,\n",
    "                      confidence_scaling_factor=confidence_scaling_factor,\n",
    "                      training_window=100,\n",
    "                      learning_rate=0.01,\n",
    "                      batch_size=100,\n",
    "                      epochs=10,\n",
    "                      nn_verbose=0,\n",
    "                     )\n",
    "    model.run()\n",
    "    regrets[i] = np.cumsum(model.regrets)\n",
    "    \n",
    "    # when training multiple models sequentially,\n",
    "    # flush them when you don't need them\n",
    "    # otherwise they will stick around and pollute your RAM\n",
    "    K.clear_session()"
   ]
  },
  {
   "cell_type": "markdown",
   "metadata": {},
   "source": [
    "### Sublinear regret growth : the bandit problem is solved efficiently (even though the reward is nonlinear!)"
   ]
  },
  {
   "cell_type": "code",
   "execution_count": 10,
   "metadata": {},
   "outputs": [
    {
     "data": {
      "image/png": "[encoded data removed]",
      "text/plain": [
       "<Figure size 792x288 with 1 Axes>"
      ]
     },
     "metadata": {
      "needs_background": "light"
     },
     "output_type": "display_data"
    }
   ],
   "source": [
    "fig, ax = plt.subplots(figsize=(11, 4), nrows=1, ncols=1)\n",
    "\n",
    "t = np.arange(T)\n",
    "\n",
    "mean_regrets = np.mean(regrets, axis=0)\n",
    "std_regrets = np.std(regrets, axis=0) / np.sqrt(regrets.shape[0])\n",
    "ax.plot(t, mean_regrets)\n",
    "ax.fill_between(t, mean_regrets - 2*std_regrets, mean_regrets + 2*std_regrets, alpha=0.15)\n",
    "    \n",
    "ax.set_title('Cumulative regret')\n",
    "\n",
    "plt.tight_layout()\n",
    "plt.show()"
   ]
  },
  {
   "cell_type": "code",
   "execution_count": null,
   "metadata": {},
   "outputs": [],
   "source": []
  }
 ],
 "metadata": {
  "kernelspec": {
   "display_name": "Python 3",
   "language": "python",
   "name": "python3"
  },
  "language_info": {
   "codemirror_mode": {
    "name": "ipython",
    "version": 3
   },
   "file_extension": ".py",
   "mimetype": "text/x-python",
   "name": "python",
   "nbconvert_exporter": "python",
   "pygments_lexer": "ipython3",
   "version": "3.7.4"
  }
 },
 "nbformat": 4,
 "nbformat_minor": 2
}
